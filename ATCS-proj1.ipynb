{
 "cells": [
  {
   "cell_type": "markdown",
   "metadata": {},
   "source": [
    "# Advanced Topics in Computer Science - Project 1"
   ]
  },
  {
   "cell_type": "markdown",
   "metadata": {},
   "source": [
    "## A Neural Network Approach for Truth Discovery in Social Sensing"
   ]
  },
  {
   "cell_type": "markdown",
   "metadata": {},
   "source": [
    "<b>Team Name:</b> Carbonara Bros <br>\n",
    "<b>Team Members:</b> Andrea De Angelis, Vincenzo Di Cicco, Maurizio Mazzei, Paolo Montana"
   ]
  },
  {
   "cell_type": "markdown",
   "metadata": {},
   "source": [
    "Paper: https://www3.nd.edu/~sslab/pdf/mass17.pdf <br>\n",
    "Dataset: Population_claims (https://amubox.univ-amu.fr/index.php/s/mB2orlnFUkZgtnk)"
   ]
  },
  {
   "cell_type": "code",
   "execution_count": 90,
   "metadata": {},
   "outputs": [],
   "source": [
    "import pandas as pd\n",
    "import numpy as np\n",
    "from keras.models import Sequential\n",
    "from keras.layers import Dense, Activation, Dropout\n",
    "from keras import optimizers\n",
    "from sklearn.model_selection import train_test_split\n",
    "from sklearn.metrics import confusion_matrix"
   ]
  },
  {
   "cell_type": "code",
   "execution_count": 2,
   "metadata": {},
   "outputs": [
    {
     "data": {
      "text/html": [
       "<div>\n",
       "<style scoped>\n",
       "    .dataframe tbody tr th:only-of-type {\n",
       "        vertical-align: middle;\n",
       "    }\n",
       "\n",
       "    .dataframe tbody tr th {\n",
       "        vertical-align: top;\n",
       "    }\n",
       "\n",
       "    .dataframe thead th {\n",
       "        text-align: right;\n",
       "    }\n",
       "</style>\n",
       "<table border=\"1\" class=\"dataframe\">\n",
       "  <thead>\n",
       "    <tr style=\"text-align: right;\">\n",
       "      <th></th>\n",
       "      <th>ObjectID</th>\n",
       "      <th>PropertyID</th>\n",
       "      <th>PropertyValue</th>\n",
       "      <th>SourceID</th>\n",
       "      <th>TimeStamp</th>\n",
       "    </tr>\n",
       "  </thead>\n",
       "  <tbody>\n",
       "    <tr>\n",
       "      <th>0</th>\n",
       "      <td>abu dhabi</td>\n",
       "      <td>Population2006</td>\n",
       "      <td>1000230</td>\n",
       "      <td>0 (68.162.248.83)</td>\n",
       "      <td>NaN</td>\n",
       "    </tr>\n",
       "    <tr>\n",
       "      <th>1</th>\n",
       "      <td>abu dhabi</td>\n",
       "      <td>Population2006</td>\n",
       "      <td>1850230</td>\n",
       "      <td>1513217: Mohammedfairouz</td>\n",
       "      <td>NaN</td>\n",
       "    </tr>\n",
       "    <tr>\n",
       "      <th>2</th>\n",
       "      <td>amsterdam</td>\n",
       "      <td>Population2006</td>\n",
       "      <td>741329</td>\n",
       "      <td>141597: Ilse@</td>\n",
       "      <td>NaN</td>\n",
       "    </tr>\n",
       "    <tr>\n",
       "      <th>3</th>\n",
       "      <td>amsterdam</td>\n",
       "      <td>Population2006</td>\n",
       "      <td>742884</td>\n",
       "      <td>1300620: Krator</td>\n",
       "      <td>NaN</td>\n",
       "    </tr>\n",
       "    <tr>\n",
       "      <th>4</th>\n",
       "      <td>adelaide</td>\n",
       "      <td>Population2006</td>\n",
       "      <td>1124315</td>\n",
       "      <td>3922171: Pirate05</td>\n",
       "      <td>NaN</td>\n",
       "    </tr>\n",
       "  </tbody>\n",
       "</table>\n",
       "</div>"
      ],
      "text/plain": [
       "    ObjectID      PropertyID  PropertyValue                  SourceID  \\\n",
       "0  abu dhabi  Population2006        1000230         0 (68.162.248.83)   \n",
       "1  abu dhabi  Population2006        1850230  1513217: Mohammedfairouz   \n",
       "2  amsterdam  Population2006         741329             141597: Ilse@   \n",
       "3  amsterdam  Population2006         742884           1300620: Krator   \n",
       "4   adelaide  Population2006        1124315         3922171: Pirate05   \n",
       "\n",
       "   TimeStamp  \n",
       "0        NaN  \n",
       "1        NaN  \n",
       "2        NaN  \n",
       "3        NaN  \n",
       "4        NaN  "
      ]
     },
     "execution_count": 2,
     "metadata": {},
     "output_type": "execute_result"
    }
   ],
   "source": [
    "dataset = pd.read_csv('datasets/Population_claims.csv')\n",
    "dataset.head()"
   ]
  },
  {
   "cell_type": "code",
   "execution_count": 3,
   "metadata": {
    "scrolled": false
   },
   "outputs": [
    {
     "data": {
      "text/html": [
       "<div>\n",
       "<style scoped>\n",
       "    .dataframe tbody tr th:only-of-type {\n",
       "        vertical-align: middle;\n",
       "    }\n",
       "\n",
       "    .dataframe tbody tr th {\n",
       "        vertical-align: top;\n",
       "    }\n",
       "\n",
       "    .dataframe thead th {\n",
       "        text-align: right;\n",
       "    }\n",
       "</style>\n",
       "<table border=\"1\" class=\"dataframe\">\n",
       "  <thead>\n",
       "    <tr style=\"text-align: right;\">\n",
       "      <th></th>\n",
       "      <th>ObjectID</th>\n",
       "      <th>PropertyID</th>\n",
       "      <th>PropertyValue</th>\n",
       "    </tr>\n",
       "  </thead>\n",
       "  <tbody>\n",
       "    <tr>\n",
       "      <th>0</th>\n",
       "      <td>cleveland, ohio</td>\n",
       "      <td>Population2000</td>\n",
       "      <td>478403</td>\n",
       "    </tr>\n",
       "    <tr>\n",
       "      <th>1</th>\n",
       "      <td>gary, indiana</td>\n",
       "      <td>Population2000</td>\n",
       "      <td>102746</td>\n",
       "    </tr>\n",
       "    <tr>\n",
       "      <th>2</th>\n",
       "      <td>flint, michigan</td>\n",
       "      <td>Population2000</td>\n",
       "      <td>124943</td>\n",
       "    </tr>\n",
       "    <tr>\n",
       "      <th>3</th>\n",
       "      <td>compton, california</td>\n",
       "      <td>Population2000</td>\n",
       "      <td>93493</td>\n",
       "    </tr>\n",
       "    <tr>\n",
       "      <th>4</th>\n",
       "      <td>washington, d.c.</td>\n",
       "      <td>Population2005</td>\n",
       "      <td>582049</td>\n",
       "    </tr>\n",
       "  </tbody>\n",
       "</table>\n",
       "</div>"
      ],
      "text/plain": [
       "              ObjectID      PropertyID  PropertyValue\n",
       "0      cleveland, ohio  Population2000         478403\n",
       "1        gary, indiana  Population2000         102746\n",
       "2      flint, michigan  Population2000         124943\n",
       "3  compton, california  Population2000          93493\n",
       "4     washington, d.c.  Population2005         582049"
      ]
     },
     "execution_count": 3,
     "metadata": {},
     "output_type": "execute_result"
    }
   ],
   "source": [
    "ground_truth = pd.read_csv('datasets/Population_groundtruth.csv')\n",
    "ground_truth.head()"
   ]
  },
  {
   "cell_type": "markdown",
   "metadata": {},
   "source": [
    "### Original Dataset Statistics"
   ]
  },
  {
   "cell_type": "code",
   "execution_count": 11,
   "metadata": {},
   "outputs": [
    {
     "name": "stdout",
     "output_type": "stream",
     "text": [
      "# of claims in the original dataset: 49955\n"
     ]
    }
   ],
   "source": [
    "number_original_claims = len(dataset)\n",
    "print('# of claims in the original dataset: {}'.format(number_original_claims))"
   ]
  },
  {
   "cell_type": "markdown",
   "metadata": {},
   "source": [
    "* A unique claim is identified by the triple (ObjectID, PropertyID e PropertyValue)"
   ]
  },
  {
   "cell_type": "code",
   "execution_count": 12,
   "metadata": {},
   "outputs": [
    {
     "name": "stdout",
     "output_type": "stream",
     "text": [
      "# of unique claims in the original dataset: 44590\n"
     ]
    }
   ],
   "source": [
    "number_original_unique_claims = len(dataset.drop_duplicates(subset=['ObjectID', 'PropertyID', 'PropertyValue']))\n",
    "print('# of unique claims in the original dataset: {}'.format(number_original_unique_claims))"
   ]
  },
  {
   "cell_type": "code",
   "execution_count": 14,
   "metadata": {},
   "outputs": [
    {
     "name": "stdout",
     "output_type": "stream",
     "text": [
      "Just the 0.1073966569912922% of the claims are equal\n",
      "The remaining 0.8926033430087078% of the claims are unique\n"
     ]
    }
   ],
   "source": [
    "unique_claims_ratio = number_original_unique_claims/number_original_claims\n",
    "print('Just the {}% of the claims are equal'.format(1-unique_claims_ratio))\n",
    "print('The remaining {}% of the claims are unique'.format(unique_claims_ratio))"
   ]
  },
  {
   "cell_type": "code",
   "execution_count": 16,
   "metadata": {},
   "outputs": [
    {
     "name": "stdout",
     "output_type": "stream",
     "text": [
      "# of unique sources: 4264\n"
     ]
    }
   ],
   "source": [
    "original_unique_sources = dataset.SourceID.unique()\n",
    "number_original_unique_sources = len(original_unique_sources)\n",
    "print('# of unique sources: {}'.format(number_original_unique_sources))"
   ]
  },
  {
   "cell_type": "markdown",
   "metadata": {},
   "source": [
    "### Ground Truth Construction"
   ]
  },
  {
   "cell_type": "markdown",
   "metadata": {},
   "source": [
    "* We have 308 rows in the ground truth with only true claims, but we need also false claims\n",
    "* Each row is a triple (ObjectID, PropertyID, PropertyValue) defining a true claims\n",
    "* For each claim in the ground truth, we want to identify which rows in the dataset refers to the same claim\n",
    "    * These examples will be labeled with 1 (indicating a true claim)\n",
    "* For each claim in the ground truth, we want to identify which rows has the same ObjectID and PropertyID, but different PropertyValue\n",
    "    * These examples will be labeled with 0 (indicating false claim, since they are surely false)"
   ]
  },
  {
   "cell_type": "code",
   "execution_count": 17,
   "metadata": {},
   "outputs": [],
   "source": [
    "# List of true claims (only for convenience)\n",
    "truth_claims = []\n",
    "\n",
    "for index, row in ground_truth.iterrows():\n",
    "    truth_claims.append(row)"
   ]
  },
  {
   "cell_type": "code",
   "execution_count": 19,
   "metadata": {},
   "outputs": [
    {
     "name": "stdout",
     "output_type": "stream",
     "text": [
      "Index(['ObjectID', 'PropertyID', 'PropertyValue', 'SourceID', 'TimeStamp'], dtype='object')\n"
     ]
    }
   ],
   "source": [
    "# Original dataset's header\n",
    "columns = dataset.columns\n",
    "print(columns)"
   ]
  },
  {
   "cell_type": "markdown",
   "metadata": {},
   "source": [
    "* DataFrame created with the same header of the original one\n",
    "* Append of the positive examples to this new DataFrame\n",
    "* 'Target' columns addition (all values set to 1)"
   ]
  },
  {
   "cell_type": "code",
   "execution_count": 20,
   "metadata": {},
   "outputs": [],
   "source": [
    "df_positives = pd.DataFrame(columns = columns)"
   ]
  },
  {
   "cell_type": "code",
   "execution_count": 21,
   "metadata": {
    "scrolled": false
   },
   "outputs": [
    {
     "name": "stderr",
     "output_type": "stream",
     "text": [
      "/usr/lib/python3.6/site-packages/ipykernel_launcher.py:5: SettingWithCopyWarning: \n",
      "A value is trying to be set on a copy of a slice from a DataFrame.\n",
      "Try using .loc[row_indexer,col_indexer] = value instead\n",
      "\n",
      "See the caveats in the documentation: http://pandas.pydata.org/pandas-docs/stable/indexing.html#indexing-view-versus-copy\n",
      "  \"\"\"\n"
     ]
    }
   ],
   "source": [
    "for count in range(len(truth_claims)):\n",
    "    d1 = dataset[dataset.ObjectID == truth_claims[count][0]]\n",
    "    d2 = d1[d1.PropertyID == truth_claims[count][1]]\n",
    "    d3 = d2[d2.PropertyValue == truth_claims[count][2]]\n",
    "    d3['Target'] = 1\n",
    "    df_positives = df_positives.append(d3)"
   ]
  },
  {
   "cell_type": "code",
   "execution_count": 22,
   "metadata": {
    "scrolled": true
   },
   "outputs": [
    {
     "data": {
      "text/html": [
       "<div>\n",
       "<style scoped>\n",
       "    .dataframe tbody tr th:only-of-type {\n",
       "        vertical-align: middle;\n",
       "    }\n",
       "\n",
       "    .dataframe tbody tr th {\n",
       "        vertical-align: top;\n",
       "    }\n",
       "\n",
       "    .dataframe thead th {\n",
       "        text-align: right;\n",
       "    }\n",
       "</style>\n",
       "<table border=\"1\" class=\"dataframe\">\n",
       "  <thead>\n",
       "    <tr style=\"text-align: right;\">\n",
       "      <th></th>\n",
       "      <th>ObjectID</th>\n",
       "      <th>PropertyID</th>\n",
       "      <th>PropertyValue</th>\n",
       "      <th>SourceID</th>\n",
       "      <th>Target</th>\n",
       "      <th>TimeStamp</th>\n",
       "    </tr>\n",
       "  </thead>\n",
       "  <tbody>\n",
       "    <tr>\n",
       "      <th>169</th>\n",
       "      <td>cleveland, ohio</td>\n",
       "      <td>Population2000</td>\n",
       "      <td>478403</td>\n",
       "      <td>81676: Beirne</td>\n",
       "      <td>1.0</td>\n",
       "      <td>NaN</td>\n",
       "    </tr>\n",
       "    <tr>\n",
       "      <th>171</th>\n",
       "      <td>cleveland, ohio</td>\n",
       "      <td>Population2000</td>\n",
       "      <td>478403</td>\n",
       "      <td>94900: EurekaLott</td>\n",
       "      <td>1.0</td>\n",
       "      <td>NaN</td>\n",
       "    </tr>\n",
       "    <tr>\n",
       "      <th>172</th>\n",
       "      <td>cleveland, ohio</td>\n",
       "      <td>Population2000</td>\n",
       "      <td>478403</td>\n",
       "      <td>627347: MJCdetroit</td>\n",
       "      <td>1.0</td>\n",
       "      <td>NaN</td>\n",
       "    </tr>\n",
       "    <tr>\n",
       "      <th>175</th>\n",
       "      <td>cleveland, ohio</td>\n",
       "      <td>Population2000</td>\n",
       "      <td>478403</td>\n",
       "      <td>1960810: Nyttend</td>\n",
       "      <td>1.0</td>\n",
       "      <td>NaN</td>\n",
       "    </tr>\n",
       "    <tr>\n",
       "      <th>177</th>\n",
       "      <td>cleveland, ohio</td>\n",
       "      <td>Population2000</td>\n",
       "      <td>478403</td>\n",
       "      <td>1948715: Confiteordeo</td>\n",
       "      <td>1.0</td>\n",
       "      <td>NaN</td>\n",
       "    </tr>\n",
       "  </tbody>\n",
       "</table>\n",
       "</div>"
      ],
      "text/plain": [
       "            ObjectID      PropertyID PropertyValue               SourceID  \\\n",
       "169  cleveland, ohio  Population2000        478403          81676: Beirne   \n",
       "171  cleveland, ohio  Population2000        478403      94900: EurekaLott   \n",
       "172  cleveland, ohio  Population2000        478403     627347: MJCdetroit   \n",
       "175  cleveland, ohio  Population2000        478403       1960810: Nyttend   \n",
       "177  cleveland, ohio  Population2000        478403  1948715: Confiteordeo   \n",
       "\n",
       "     Target TimeStamp  \n",
       "169     1.0       NaN  \n",
       "171     1.0       NaN  \n",
       "172     1.0       NaN  \n",
       "175     1.0       NaN  \n",
       "177     1.0       NaN  "
      ]
     },
     "execution_count": 22,
     "metadata": {},
     "output_type": "execute_result"
    }
   ],
   "source": [
    "df_positives.head()"
   ]
  },
  {
   "cell_type": "code",
   "execution_count": 23,
   "metadata": {
    "scrolled": false
   },
   "outputs": [
    {
     "data": {
      "text/plain": [
       "598"
      ]
     },
     "execution_count": 23,
     "metadata": {},
     "output_type": "execute_result"
    }
   ],
   "source": [
    "len(df_positives) # positive examples"
   ]
  },
  {
   "cell_type": "markdown",
   "metadata": {},
   "source": [
    "* DataFrame creation with the same header of the original one\n",
    "* Append of the negatives examples to this new DataFrame\n",
    "* 'Target' columns addition (all values set to 0)"
   ]
  },
  {
   "cell_type": "code",
   "execution_count": 24,
   "metadata": {},
   "outputs": [],
   "source": [
    "df_negatives = pd.DataFrame(columns = columns)"
   ]
  },
  {
   "cell_type": "code",
   "execution_count": 25,
   "metadata": {
    "scrolled": false
   },
   "outputs": [
    {
     "name": "stderr",
     "output_type": "stream",
     "text": [
      "/usr/lib/python3.6/site-packages/ipykernel_launcher.py:5: SettingWithCopyWarning: \n",
      "A value is trying to be set on a copy of a slice from a DataFrame.\n",
      "Try using .loc[row_indexer,col_indexer] = value instead\n",
      "\n",
      "See the caveats in the documentation: http://pandas.pydata.org/pandas-docs/stable/indexing.html#indexing-view-versus-copy\n",
      "  \"\"\"\n"
     ]
    }
   ],
   "source": [
    "for count in range(len(truth_claims)):\n",
    "    d1 = dataset[dataset.ObjectID == truth_claims[count][0]]\n",
    "    d2 = d1[d1.PropertyID == truth_claims[count][1]]\n",
    "    d3 = d2[d2.PropertyValue != truth_claims[count][2]]\n",
    "    d3['Target'] = 0\n",
    "    df_negatives = df_negatives.append(d3)"
   ]
  },
  {
   "cell_type": "code",
   "execution_count": 26,
   "metadata": {
    "scrolled": true
   },
   "outputs": [
    {
     "data": {
      "text/html": [
       "<div>\n",
       "<style scoped>\n",
       "    .dataframe tbody tr th:only-of-type {\n",
       "        vertical-align: middle;\n",
       "    }\n",
       "\n",
       "    .dataframe tbody tr th {\n",
       "        vertical-align: top;\n",
       "    }\n",
       "\n",
       "    .dataframe thead th {\n",
       "        text-align: right;\n",
       "    }\n",
       "</style>\n",
       "<table border=\"1\" class=\"dataframe\">\n",
       "  <thead>\n",
       "    <tr style=\"text-align: right;\">\n",
       "      <th></th>\n",
       "      <th>ObjectID</th>\n",
       "      <th>PropertyID</th>\n",
       "      <th>PropertyValue</th>\n",
       "      <th>SourceID</th>\n",
       "      <th>Target</th>\n",
       "      <th>TimeStamp</th>\n",
       "    </tr>\n",
       "  </thead>\n",
       "  <tbody>\n",
       "    <tr>\n",
       "      <th>174</th>\n",
       "      <td>cleveland, ohio</td>\n",
       "      <td>Population2000</td>\n",
       "      <td>444323</td>\n",
       "      <td>0 (75.179.37.144)</td>\n",
       "      <td>0.0</td>\n",
       "      <td>NaN</td>\n",
       "    </tr>\n",
       "    <tr>\n",
       "      <th>176</th>\n",
       "      <td>cleveland, ohio</td>\n",
       "      <td>Population2000</td>\n",
       "      <td>372628</td>\n",
       "      <td>0 (130.13.0.12)</td>\n",
       "      <td>0.0</td>\n",
       "      <td>NaN</td>\n",
       "    </tr>\n",
       "    <tr>\n",
       "      <th>178</th>\n",
       "      <td>cleveland, ohio</td>\n",
       "      <td>Population2000</td>\n",
       "      <td>478404</td>\n",
       "      <td>0 (71.17.156.29)</td>\n",
       "      <td>0.0</td>\n",
       "      <td>NaN</td>\n",
       "    </tr>\n",
       "    <tr>\n",
       "      <th>383</th>\n",
       "      <td>gary, indiana</td>\n",
       "      <td>Population2000</td>\n",
       "      <td>0</td>\n",
       "      <td>2278184: El diablo21</td>\n",
       "      <td>0.0</td>\n",
       "      <td>NaN</td>\n",
       "    </tr>\n",
       "    <tr>\n",
       "      <th>2220</th>\n",
       "      <td>flint, michigan</td>\n",
       "      <td>Population2000</td>\n",
       "      <td>118551</td>\n",
       "      <td>551240: Blueskiesfalling</td>\n",
       "      <td>0.0</td>\n",
       "      <td>NaN</td>\n",
       "    </tr>\n",
       "  </tbody>\n",
       "</table>\n",
       "</div>"
      ],
      "text/plain": [
       "             ObjectID      PropertyID PropertyValue                  SourceID  \\\n",
       "174   cleveland, ohio  Population2000        444323         0 (75.179.37.144)   \n",
       "176   cleveland, ohio  Population2000        372628           0 (130.13.0.12)   \n",
       "178   cleveland, ohio  Population2000        478404          0 (71.17.156.29)   \n",
       "383     gary, indiana  Population2000             0      2278184: El diablo21   \n",
       "2220  flint, michigan  Population2000        118551  551240: Blueskiesfalling   \n",
       "\n",
       "      Target TimeStamp  \n",
       "174      0.0       NaN  \n",
       "176      0.0       NaN  \n",
       "178      0.0       NaN  \n",
       "383      0.0       NaN  \n",
       "2220     0.0       NaN  "
      ]
     },
     "execution_count": 26,
     "metadata": {},
     "output_type": "execute_result"
    }
   ],
   "source": [
    "df_negatives.head()"
   ]
  },
  {
   "cell_type": "code",
   "execution_count": 27,
   "metadata": {
    "scrolled": true
   },
   "outputs": [
    {
     "data": {
      "text/plain": [
       "448"
      ]
     },
     "execution_count": 27,
     "metadata": {},
     "output_type": "execute_result"
    }
   ],
   "source": [
    "len(df_negatives) # negative examples"
   ]
  },
  {
   "cell_type": "code",
   "execution_count": 30,
   "metadata": {},
   "outputs": [],
   "source": [
    "final_df = df_positives.append(df_negatives)"
   ]
  },
  {
   "cell_type": "code",
   "execution_count": 31,
   "metadata": {
    "scrolled": true
   },
   "outputs": [
    {
     "data": {
      "text/html": [
       "<div>\n",
       "<style scoped>\n",
       "    .dataframe tbody tr th:only-of-type {\n",
       "        vertical-align: middle;\n",
       "    }\n",
       "\n",
       "    .dataframe tbody tr th {\n",
       "        vertical-align: top;\n",
       "    }\n",
       "\n",
       "    .dataframe thead th {\n",
       "        text-align: right;\n",
       "    }\n",
       "</style>\n",
       "<table border=\"1\" class=\"dataframe\">\n",
       "  <thead>\n",
       "    <tr style=\"text-align: right;\">\n",
       "      <th></th>\n",
       "      <th>ObjectID</th>\n",
       "      <th>PropertyID</th>\n",
       "      <th>PropertyValue</th>\n",
       "      <th>SourceID</th>\n",
       "      <th>Target</th>\n",
       "      <th>TimeStamp</th>\n",
       "    </tr>\n",
       "  </thead>\n",
       "  <tbody>\n",
       "    <tr>\n",
       "      <th>169</th>\n",
       "      <td>cleveland, ohio</td>\n",
       "      <td>Population2000</td>\n",
       "      <td>478403</td>\n",
       "      <td>81676: Beirne</td>\n",
       "      <td>1.0</td>\n",
       "      <td>NaN</td>\n",
       "    </tr>\n",
       "    <tr>\n",
       "      <th>171</th>\n",
       "      <td>cleveland, ohio</td>\n",
       "      <td>Population2000</td>\n",
       "      <td>478403</td>\n",
       "      <td>94900: EurekaLott</td>\n",
       "      <td>1.0</td>\n",
       "      <td>NaN</td>\n",
       "    </tr>\n",
       "    <tr>\n",
       "      <th>172</th>\n",
       "      <td>cleveland, ohio</td>\n",
       "      <td>Population2000</td>\n",
       "      <td>478403</td>\n",
       "      <td>627347: MJCdetroit</td>\n",
       "      <td>1.0</td>\n",
       "      <td>NaN</td>\n",
       "    </tr>\n",
       "    <tr>\n",
       "      <th>175</th>\n",
       "      <td>cleveland, ohio</td>\n",
       "      <td>Population2000</td>\n",
       "      <td>478403</td>\n",
       "      <td>1960810: Nyttend</td>\n",
       "      <td>1.0</td>\n",
       "      <td>NaN</td>\n",
       "    </tr>\n",
       "    <tr>\n",
       "      <th>177</th>\n",
       "      <td>cleveland, ohio</td>\n",
       "      <td>Population2000</td>\n",
       "      <td>478403</td>\n",
       "      <td>1948715: Confiteordeo</td>\n",
       "      <td>1.0</td>\n",
       "      <td>NaN</td>\n",
       "    </tr>\n",
       "  </tbody>\n",
       "</table>\n",
       "</div>"
      ],
      "text/plain": [
       "            ObjectID      PropertyID PropertyValue               SourceID  \\\n",
       "169  cleveland, ohio  Population2000        478403          81676: Beirne   \n",
       "171  cleveland, ohio  Population2000        478403      94900: EurekaLott   \n",
       "172  cleveland, ohio  Population2000        478403     627347: MJCdetroit   \n",
       "175  cleveland, ohio  Population2000        478403       1960810: Nyttend   \n",
       "177  cleveland, ohio  Population2000        478403  1948715: Confiteordeo   \n",
       "\n",
       "     Target TimeStamp  \n",
       "169     1.0       NaN  \n",
       "171     1.0       NaN  \n",
       "172     1.0       NaN  \n",
       "175     1.0       NaN  \n",
       "177     1.0       NaN  "
      ]
     },
     "execution_count": 31,
     "metadata": {},
     "output_type": "execute_result"
    }
   ],
   "source": [
    "final_df.head()"
   ]
  },
  {
   "cell_type": "markdown",
   "metadata": {},
   "source": [
    "### Final DataFrame Statistics"
   ]
  },
  {
   "cell_type": "code",
   "execution_count": 34,
   "metadata": {},
   "outputs": [
    {
     "data": {
      "text/plain": [
       "1046"
      ]
     },
     "execution_count": 34,
     "metadata": {},
     "output_type": "execute_result"
    }
   ],
   "source": [
    "len(final_df)"
   ]
  },
  {
   "cell_type": "code",
   "execution_count": 32,
   "metadata": {},
   "outputs": [
    {
     "data": {
      "text/plain": [
       "685"
      ]
     },
     "execution_count": 32,
     "metadata": {},
     "output_type": "execute_result"
    }
   ],
   "source": [
    "number_of_claims = final_df.groupby(['ObjectID','PropertyID', 'PropertyValue']).ngroups\n",
    "number_of_claims"
   ]
  },
  {
   "cell_type": "code",
   "execution_count": 33,
   "metadata": {},
   "outputs": [
    {
     "data": {
      "text/plain": [
       "643"
      ]
     },
     "execution_count": 33,
     "metadata": {},
     "output_type": "execute_result"
    }
   ],
   "source": [
    "number_of_sources = final_df.groupby('SourceID').ngroups\n",
    "number_of_sources"
   ]
  },
  {
   "cell_type": "markdown",
   "metadata": {},
   "source": [
    "* From this final_df we want to build the \"Sensing Matrix\"\n",
    "* The sensing matrix shape will be (685, 643)\n",
    "* N = 685; M = 643\n",
    "\n",
    "<table>\n",
    "    <tr>\n",
    "        <td></td>\n",
    "        <th>Source 1</th>\n",
    "        <th>Source 2</th> \n",
    "        <th>...</th>\n",
    "        <th>Source M</th>\n",
    "    </tr>\n",
    "    <tr>\n",
    "        <th>Claim 1</th>\n",
    "        <td>1</td>\n",
    "        <td>0</td> \n",
    "        <td>...</td>\n",
    "        <td>0</td>\n",
    "    </tr>\n",
    "    <tr>\n",
    "        <th>Claim 2</th>\n",
    "        <td>0</td>\n",
    "        <td>1</td> \n",
    "        <td>...</td>\n",
    "        <td>1</td>\n",
    "    </tr>\n",
    "    <tr>\n",
    "        <th>...</th>\n",
    "        <td>...</td>\n",
    "        <td>...</td> \n",
    "        <td>...</td>\n",
    "        <td>...</td>\n",
    "    </tr>\n",
    "    <tr>\n",
    "        <th>Claim N</th>\n",
    "        <td>0</td>\n",
    "        <td>0</td> \n",
    "        <td>...</td>\n",
    "        <td>0</td>\n",
    "    </tr>\n",
    "</table>"
   ]
  },
  {
   "cell_type": "markdown",
   "metadata": {},
   "source": [
    "* M sources {$S_{1}, S_{2}, .., S_{M}$}"
   ]
  },
  {
   "cell_type": "markdown",
   "metadata": {},
   "source": [
    "* N claims {$ C_{1}, C_{2}, .., C_{N} $}"
   ]
  },
  {
   "cell_type": "markdown",
   "metadata": {},
   "source": [
    "* Every source report N claims\n",
    "    * If the ith source report the jth claim, the corresponding sensing matrix cell will contain 1\n",
    "    * If the ith source don't report the jth claim, the corresponding sensing matrix cell will contain 0\n",
    "* Which is -> $S_iC_j = 1$ or $S_iC_j = 0$"
   ]
  },
  {
   "cell_type": "markdown",
   "metadata": {},
   "source": [
    "### Sensing Matrix Construction"
   ]
  },
  {
   "cell_type": "markdown",
   "metadata": {},
   "source": [
    "* We need to identify the unique claims (N claims)\n",
    "* For every unique claims we need to know the source which report it\n",
    "* For every triple (ObjectID, PropertyID, PropertyValue) we need to know the 'Target' (truth value)"
   ]
  },
  {
   "cell_type": "code",
   "execution_count": 35,
   "metadata": {},
   "outputs": [],
   "source": [
    "sensing_df = (final_df.iloc[:, 0:3]).drop_duplicates()"
   ]
  },
  {
   "cell_type": "code",
   "execution_count": 36,
   "metadata": {
    "scrolled": false
   },
   "outputs": [
    {
     "data": {
      "text/html": [
       "<div>\n",
       "<style scoped>\n",
       "    .dataframe tbody tr th:only-of-type {\n",
       "        vertical-align: middle;\n",
       "    }\n",
       "\n",
       "    .dataframe tbody tr th {\n",
       "        vertical-align: top;\n",
       "    }\n",
       "\n",
       "    .dataframe thead th {\n",
       "        text-align: right;\n",
       "    }\n",
       "</style>\n",
       "<table border=\"1\" class=\"dataframe\">\n",
       "  <thead>\n",
       "    <tr style=\"text-align: right;\">\n",
       "      <th></th>\n",
       "      <th>ObjectID</th>\n",
       "      <th>PropertyID</th>\n",
       "      <th>PropertyValue</th>\n",
       "    </tr>\n",
       "  </thead>\n",
       "  <tbody>\n",
       "    <tr>\n",
       "      <th>169</th>\n",
       "      <td>cleveland, ohio</td>\n",
       "      <td>Population2000</td>\n",
       "      <td>478403</td>\n",
       "    </tr>\n",
       "    <tr>\n",
       "      <th>382</th>\n",
       "      <td>gary, indiana</td>\n",
       "      <td>Population2000</td>\n",
       "      <td>102746</td>\n",
       "    </tr>\n",
       "    <tr>\n",
       "      <th>2219</th>\n",
       "      <td>flint, michigan</td>\n",
       "      <td>Population2000</td>\n",
       "      <td>124943</td>\n",
       "    </tr>\n",
       "    <tr>\n",
       "      <th>5927</th>\n",
       "      <td>compton, california</td>\n",
       "      <td>Population2000</td>\n",
       "      <td>93493</td>\n",
       "    </tr>\n",
       "    <tr>\n",
       "      <th>7253</th>\n",
       "      <td>washington, d.c.</td>\n",
       "      <td>Population2005</td>\n",
       "      <td>582049</td>\n",
       "    </tr>\n",
       "  </tbody>\n",
       "</table>\n",
       "</div>"
      ],
      "text/plain": [
       "                 ObjectID      PropertyID PropertyValue\n",
       "169       cleveland, ohio  Population2000        478403\n",
       "382         gary, indiana  Population2000        102746\n",
       "2219      flint, michigan  Population2000        124943\n",
       "5927  compton, california  Population2000         93493\n",
       "7253     washington, d.c.  Population2005        582049"
      ]
     },
     "execution_count": 36,
     "metadata": {},
     "output_type": "execute_result"
    }
   ],
   "source": [
    "sensing_df.head()"
   ]
  },
  {
   "cell_type": "code",
   "execution_count": 38,
   "metadata": {},
   "outputs": [],
   "source": [
    "# append SourceID column\n",
    "for index, row in sensing_df.iterrows():\n",
    "    source_id = final_df.loc[index, 'SourceID']\n",
    "    sensing_df.loc[index, 'SourceID'] = source_id"
   ]
  },
  {
   "cell_type": "code",
   "execution_count": 39,
   "metadata": {},
   "outputs": [],
   "source": [
    "# append Target column\n",
    "for index, row in sensing_df.iterrows():\n",
    "    target = final_df.loc[index, 'Target']\n",
    "    sensing_df.loc[index, 'Target'] = target"
   ]
  },
  {
   "cell_type": "code",
   "execution_count": 41,
   "metadata": {
    "scrolled": true
   },
   "outputs": [
    {
     "name": "stdout",
     "output_type": "stream",
     "text": [
      "Now we have 685 unique claims\n"
     ]
    }
   ],
   "source": [
    "print('Now we have {} unique claims'.format(len(sensing_df)))"
   ]
  },
  {
   "cell_type": "code",
   "execution_count": 42,
   "metadata": {
    "scrolled": true
   },
   "outputs": [
    {
     "data": {
      "text/html": [
       "<div>\n",
       "<style scoped>\n",
       "    .dataframe tbody tr th:only-of-type {\n",
       "        vertical-align: middle;\n",
       "    }\n",
       "\n",
       "    .dataframe tbody tr th {\n",
       "        vertical-align: top;\n",
       "    }\n",
       "\n",
       "    .dataframe thead th {\n",
       "        text-align: right;\n",
       "    }\n",
       "</style>\n",
       "<table border=\"1\" class=\"dataframe\">\n",
       "  <thead>\n",
       "    <tr style=\"text-align: right;\">\n",
       "      <th></th>\n",
       "      <th>ObjectID</th>\n",
       "      <th>PropertyID</th>\n",
       "      <th>PropertyValue</th>\n",
       "      <th>SourceID</th>\n",
       "      <th>Target</th>\n",
       "    </tr>\n",
       "  </thead>\n",
       "  <tbody>\n",
       "    <tr>\n",
       "      <th>169</th>\n",
       "      <td>cleveland, ohio</td>\n",
       "      <td>Population2000</td>\n",
       "      <td>478403</td>\n",
       "      <td>81676: Beirne</td>\n",
       "      <td>1.0</td>\n",
       "    </tr>\n",
       "    <tr>\n",
       "      <th>382</th>\n",
       "      <td>gary, indiana</td>\n",
       "      <td>Population2000</td>\n",
       "      <td>102746</td>\n",
       "      <td>620554: Harpchad</td>\n",
       "      <td>1.0</td>\n",
       "    </tr>\n",
       "    <tr>\n",
       "      <th>2219</th>\n",
       "      <td>flint, michigan</td>\n",
       "      <td>Population2000</td>\n",
       "      <td>124943</td>\n",
       "      <td>201610: Pentawing</td>\n",
       "      <td>1.0</td>\n",
       "    </tr>\n",
       "    <tr>\n",
       "      <th>5927</th>\n",
       "      <td>compton, california</td>\n",
       "      <td>Population2000</td>\n",
       "      <td>93493</td>\n",
       "      <td>541143: Postoak</td>\n",
       "      <td>1.0</td>\n",
       "    </tr>\n",
       "    <tr>\n",
       "      <th>7253</th>\n",
       "      <td>washington, d.c.</td>\n",
       "      <td>Population2005</td>\n",
       "      <td>582049</td>\n",
       "      <td>0 (84.171.251.182)</td>\n",
       "      <td>1.0</td>\n",
       "    </tr>\n",
       "  </tbody>\n",
       "</table>\n",
       "</div>"
      ],
      "text/plain": [
       "                 ObjectID      PropertyID PropertyValue            SourceID  \\\n",
       "169       cleveland, ohio  Population2000        478403       81676: Beirne   \n",
       "382         gary, indiana  Population2000        102746    620554: Harpchad   \n",
       "2219      flint, michigan  Population2000        124943   201610: Pentawing   \n",
       "5927  compton, california  Population2000         93493     541143: Postoak   \n",
       "7253     washington, d.c.  Population2005        582049  0 (84.171.251.182)   \n",
       "\n",
       "      Target  \n",
       "169      1.0  \n",
       "382      1.0  \n",
       "2219     1.0  \n",
       "5927     1.0  \n",
       "7253     1.0  "
      ]
     },
     "execution_count": 42,
     "metadata": {},
     "output_type": "execute_result"
    }
   ],
   "source": [
    "sensing_df.head()"
   ]
  },
  {
   "cell_type": "markdown",
   "metadata": {},
   "source": [
    "* Now, we will build a matrix as the following:\n",
    "    * claims -> list of source which report that claim\n",
    "    * i.e. {Claim1 : {[Source1, 1], [Source2, 0], ...}\n",
    "* Firstly, we will build the matrix with every report set to 0\n",
    "* Then, we will put 1 when a source reports a claim"
   ]
  },
  {
   "cell_type": "code",
   "execution_count": 43,
   "metadata": {
    "scrolled": false
   },
   "outputs": [],
   "source": [
    "matrix = {}\n",
    "for index, row in sensing_df.iterrows():\n",
    "    # index = (object_id, property_id)\n",
    "    values = {}\n",
    "    for source in final_df.SourceID.unique():\n",
    "        values[source] = 0 \n",
    "        \n",
    "    matrix[index] = values"
   ]
  },
  {
   "cell_type": "code",
   "execution_count": 44,
   "metadata": {},
   "outputs": [],
   "source": [
    "for index, row in sensing_df.iterrows():\n",
    "    # index = (object_id, property_id)\n",
    "    source_id = row['SourceID']\n",
    "    matrix[index][source_id] = 1"
   ]
  },
  {
   "cell_type": "markdown",
   "metadata": {},
   "source": [
    "* Building y numpy array (truth values)"
   ]
  },
  {
   "cell_type": "code",
   "execution_count": 47,
   "metadata": {},
   "outputs": [],
   "source": [
    "y = sensing_df.iloc[:,4].values"
   ]
  },
  {
   "cell_type": "code",
   "execution_count": 48,
   "metadata": {
    "scrolled": true
   },
   "outputs": [
    {
     "data": {
      "text/plain": [
       "685"
      ]
     },
     "execution_count": 48,
     "metadata": {},
     "output_type": "execute_result"
    }
   ],
   "source": [
    "len(y)"
   ]
  },
  {
   "cell_type": "code",
   "execution_count": 49,
   "metadata": {
    "scrolled": false
   },
   "outputs": [
    {
     "data": {
      "text/plain": [
       "array([1., 1., 1., 1., 1., 1., 1., 1., 1., 1., 1., 1., 1., 1., 1., 1., 1.,\n",
       "       1., 1., 1., 1., 1., 1., 1., 1., 1., 1., 1., 1., 1., 1., 1., 1., 1.,\n",
       "       1., 1., 1., 1., 1., 1., 1., 1., 1., 1., 1., 1., 1., 1., 1., 1., 1.,\n",
       "       1., 1., 1., 1., 1., 1., 1., 1., 1., 1., 1., 1., 1., 1., 1., 1., 1.,\n",
       "       1., 1., 1., 1., 1., 1., 1., 1., 1., 1., 1., 1., 1., 1., 1., 1., 1.,\n",
       "       1., 1., 1., 1., 1., 1., 1., 1., 1., 1., 1., 1., 1., 1., 1., 1., 1.,\n",
       "       1., 1., 1., 1., 1., 1., 1., 1., 1., 1., 1., 1., 1., 1., 1., 1., 1.,\n",
       "       1., 1., 1., 1., 1., 1., 1., 1., 1., 1., 1., 1., 1., 1., 1., 1., 1.,\n",
       "       1., 1., 1., 1., 1., 1., 1., 1., 1., 1., 1., 1., 1., 1., 1., 1., 1.,\n",
       "       1., 1., 1., 1., 1., 1., 1., 1., 1., 1., 1., 1., 1., 1., 1., 1., 1.,\n",
       "       1., 1., 1., 1., 1., 1., 1., 1., 1., 1., 1., 1., 1., 1., 1., 1., 1.,\n",
       "       1., 1., 1., 1., 1., 1., 1., 1., 1., 1., 1., 1., 1., 1., 1., 1., 1.,\n",
       "       1., 1., 1., 1., 1., 1., 1., 1., 1., 1., 1., 1., 1., 1., 1., 1., 1.,\n",
       "       1., 1., 1., 1., 1., 1., 1., 1., 1., 1., 1., 1., 1., 1., 1., 1., 1.,\n",
       "       1., 1., 1., 1., 1., 1., 1., 1., 1., 1., 1., 1., 1., 1., 1., 1., 1.,\n",
       "       1., 1., 1., 1., 1., 1., 1., 1., 1., 1., 1., 1., 1., 1., 1., 1., 1.,\n",
       "       1., 1., 1., 1., 1., 1., 1., 1., 1., 1., 1., 1., 1., 1., 1., 1., 1.,\n",
       "       1., 1., 1., 1., 0., 0., 0., 0., 0., 0., 0., 0., 0., 0., 0., 0., 0.,\n",
       "       0., 0., 0., 0., 0., 0., 0., 0., 0., 0., 0., 0., 0., 0., 0., 0., 0.,\n",
       "       0., 0., 0., 0., 0., 0., 0., 0., 0., 0., 0., 0., 0., 0., 0., 0., 0.,\n",
       "       0., 0., 0., 0., 0., 0., 0., 0., 0., 0., 0., 0., 0., 0., 0., 0., 0.,\n",
       "       0., 0., 0., 0., 0., 0., 0., 0., 0., 0., 0., 0., 0., 0., 0., 0., 0.,\n",
       "       0., 0., 0., 0., 0., 0., 0., 0., 0., 0., 0., 0., 0., 0., 0., 0., 0.,\n",
       "       0., 0., 0., 0., 0., 0., 0., 0., 0., 0., 0., 0., 0., 0., 0., 0., 0.,\n",
       "       0., 0., 0., 0., 0., 0., 0., 0., 0., 0., 0., 0., 0., 0., 0., 0., 0.,\n",
       "       0., 0., 0., 0., 0., 0., 0., 0., 0., 0., 0., 0., 0., 0., 0., 0., 0.,\n",
       "       0., 0., 0., 0., 0., 0., 0., 0., 0., 0., 0., 0., 0., 0., 0., 0., 0.,\n",
       "       0., 0., 0., 0., 0., 0., 0., 0., 0., 0., 0., 0., 0., 0., 0., 0., 0.,\n",
       "       0., 0., 0., 0., 0., 0., 0., 0., 0., 0., 0., 0., 0., 0., 0., 0., 0.,\n",
       "       0., 0., 0., 0., 0., 0., 0., 0., 0., 0., 0., 0., 0., 0., 0., 0., 0.,\n",
       "       0., 0., 0., 0., 0., 0., 0., 0., 0., 0., 0., 0., 0., 0., 0., 0., 0.,\n",
       "       0., 0., 0., 0., 0., 0., 0., 0., 0., 0., 0., 0., 0., 0., 0., 0., 0.,\n",
       "       0., 0., 0., 0., 0., 0., 0., 0., 0., 0., 0., 0., 0., 0., 0., 0., 0.,\n",
       "       0., 0., 0., 0., 0., 0., 0., 0., 0., 0., 0., 0., 0., 0., 0., 0., 0.,\n",
       "       0., 0., 0., 0., 0., 0., 0., 0., 0., 0., 0., 0., 0., 0., 0., 0., 0.,\n",
       "       0., 0., 0., 0., 0., 0., 0., 0., 0., 0., 0., 0., 0., 0., 0., 0., 0.,\n",
       "       0., 0., 0., 0., 0., 0., 0., 0., 0., 0., 0., 0., 0., 0., 0., 0., 0.,\n",
       "       0., 0., 0., 0., 0., 0., 0., 0., 0., 0., 0., 0., 0., 0., 0., 0., 0.,\n",
       "       0., 0., 0., 0., 0., 0., 0., 0., 0., 0., 0., 0., 0., 0., 0., 0., 0.,\n",
       "       0., 0., 0., 0., 0., 0., 0., 0., 0., 0., 0., 0., 0., 0., 0., 0., 0.,\n",
       "       0., 0., 0., 0., 0.])"
      ]
     },
     "execution_count": 49,
     "metadata": {},
     "output_type": "execute_result"
    }
   ],
   "source": [
    "y"
   ]
  },
  {
   "cell_type": "markdown",
   "metadata": {},
   "source": [
    "* Building the sensing matrix numpy array, appending the truth value to every row"
   ]
  },
  {
   "cell_type": "code",
   "execution_count": 53,
   "metadata": {},
   "outputs": [],
   "source": [
    "sensing_matrix = []\n",
    "for k, v in matrix.items():\n",
    "    row = []\n",
    "    for k1, v1 in v.items():\n",
    "        row.append(v1) \n",
    "    sensing_matrix.append(row)"
   ]
  },
  {
   "cell_type": "code",
   "execution_count": 54,
   "metadata": {},
   "outputs": [],
   "source": [
    "for count, sources in enumerate(sensing_matrix):\n",
    "    sources.append(y[count])"
   ]
  },
  {
   "cell_type": "code",
   "execution_count": 55,
   "metadata": {},
   "outputs": [],
   "source": [
    "sm = np.array(sensing_matrix)"
   ]
  },
  {
   "cell_type": "code",
   "execution_count": 56,
   "metadata": {},
   "outputs": [
    {
     "data": {
      "text/plain": [
       "array([[1., 0., 0., ..., 0., 0., 1.],\n",
       "       [0., 0., 0., ..., 0., 0., 1.],\n",
       "       [0., 0., 0., ..., 0., 0., 1.],\n",
       "       ...,\n",
       "       [0., 0., 0., ..., 0., 0., 0.],\n",
       "       [0., 0., 0., ..., 0., 0., 0.],\n",
       "       [0., 0., 0., ..., 0., 0., 0.]])"
      ]
     },
     "execution_count": 56,
     "metadata": {},
     "output_type": "execute_result"
    }
   ],
   "source": [
    "sm"
   ]
  },
  {
   "cell_type": "code",
   "execution_count": 57,
   "metadata": {
    "scrolled": true
   },
   "outputs": [
    {
     "data": {
      "text/plain": [
       "(685, 644)"
      ]
     },
     "execution_count": 57,
     "metadata": {},
     "output_type": "execute_result"
    }
   ],
   "source": [
    "sm.shape"
   ]
  },
  {
   "cell_type": "markdown",
   "metadata": {},
   "source": [
    "### Training the Neural Network"
   ]
  },
  {
   "cell_type": "markdown",
   "metadata": {},
   "source": [
    "* Split X and y\n",
    "* Split X_train and X_test, and y_train and y_test"
   ]
  },
  {
   "cell_type": "code",
   "execution_count": 58,
   "metadata": {},
   "outputs": [],
   "source": [
    "X = sm[:,0:-1]"
   ]
  },
  {
   "cell_type": "code",
   "execution_count": 59,
   "metadata": {},
   "outputs": [],
   "source": [
    "y = sm[:,-1]"
   ]
  },
  {
   "cell_type": "code",
   "execution_count": 60,
   "metadata": {},
   "outputs": [
    {
     "data": {
      "text/plain": [
       "(685,)"
      ]
     },
     "execution_count": 60,
     "metadata": {},
     "output_type": "execute_result"
    }
   ],
   "source": [
    "y.shape"
   ]
  },
  {
   "cell_type": "code",
   "execution_count": 61,
   "metadata": {},
   "outputs": [
    {
     "data": {
      "text/plain": [
       "(685, 643)"
      ]
     },
     "execution_count": 61,
     "metadata": {},
     "output_type": "execute_result"
    }
   ],
   "source": [
    "X.shape"
   ]
  },
  {
   "cell_type": "code",
   "execution_count": 62,
   "metadata": {},
   "outputs": [],
   "source": [
    "X_train, X_test, y_train, y_test = train_test_split(X, y, test_size = 0.25, random_state = 0)"
   ]
  },
  {
   "cell_type": "code",
   "execution_count": 63,
   "metadata": {},
   "outputs": [
    {
     "data": {
      "text/plain": [
       "(513, 643)"
      ]
     },
     "execution_count": 63,
     "metadata": {},
     "output_type": "execute_result"
    }
   ],
   "source": [
    "X_train.shape"
   ]
  },
  {
   "cell_type": "code",
   "execution_count": 64,
   "metadata": {
    "scrolled": true
   },
   "outputs": [
    {
     "data": {
      "text/plain": [
       "(513,)"
      ]
     },
     "execution_count": 64,
     "metadata": {},
     "output_type": "execute_result"
    }
   ],
   "source": [
    "y_train.shape"
   ]
  },
  {
   "cell_type": "code",
   "execution_count": 66,
   "metadata": {},
   "outputs": [
    {
     "name": "stderr",
     "output_type": "stream",
     "text": [
      "/usr/lib/python3.6/site-packages/ipykernel_launcher.py:5: UserWarning: Update your `Dense` call to the Keras 2 API: `Dense(activation=\"relu\", input_dim=643, units=643)`\n",
      "  \"\"\"\n",
      "/usr/lib/python3.6/site-packages/ipykernel_launcher.py:7: UserWarning: Update your `Dense` call to the Keras 2 API: `Dense(activation=\"relu\", units=321)`\n",
      "  import sys\n",
      "/usr/lib/python3.6/site-packages/ipykernel_launcher.py:8: UserWarning: Update your `Dense` call to the Keras 2 API: `Dense(activation=\"sigmoid\", units=1)`\n",
      "  \n"
     ]
    }
   ],
   "source": [
    "# Neural Network Architecture\n",
    "\n",
    "model = Sequential()\n",
    "model.add(Dropout(0.3, input_shape=(643,)))\n",
    "model.add(Dense(output_dim = 643, activation = 'relu', input_dim = 643))\n",
    "model.add(Dropout(0.3, input_shape=(643,)))\n",
    "model.add(Dense(output_dim = 321, activation = 'relu'))\n",
    "model.add(Dense(output_dim = 1, activation = 'sigmoid'))\n",
    "\n",
    "sgd = optimizers.SGD(lr=0.025)\n",
    "model.compile(optimizer=sgd, loss='binary_crossentropy', metrics=['accuracy'])"
   ]
  },
  {
   "cell_type": "code",
   "execution_count": 68,
   "metadata": {
    "scrolled": true
   },
   "outputs": [
    {
     "name": "stdout",
     "output_type": "stream",
     "text": [
      "Epoch 1/150\n",
      " - 1s - loss: 0.6920 - acc: 0.5224\n",
      "Epoch 2/150\n",
      " - 0s - loss: 0.6862 - acc: 0.5887\n",
      "Epoch 3/150\n",
      " - 0s - loss: 0.6795 - acc: 0.5809\n",
      "Epoch 4/150\n",
      " - 0s - loss: 0.6747 - acc: 0.5926\n",
      "Epoch 5/150\n",
      " - 0s - loss: 0.6724 - acc: 0.5945\n",
      "Epoch 6/150\n",
      " - 0s - loss: 0.6676 - acc: 0.6062\n",
      "Epoch 7/150\n",
      " - 0s - loss: 0.6682 - acc: 0.6296\n",
      "Epoch 8/150\n",
      " - 0s - loss: 0.6643 - acc: 0.6413\n",
      "Epoch 9/150\n",
      " - 0s - loss: 0.6626 - acc: 0.6394\n",
      "Epoch 10/150\n",
      " - 0s - loss: 0.6584 - acc: 0.6413\n",
      "Epoch 11/150\n",
      " - 0s - loss: 0.6535 - acc: 0.6550\n",
      "Epoch 12/150\n",
      " - 0s - loss: 0.6532 - acc: 0.6433\n",
      "Epoch 13/150\n",
      " - 0s - loss: 0.6490 - acc: 0.6452\n",
      "Epoch 14/150\n",
      " - 0s - loss: 0.6540 - acc: 0.6277\n",
      "Epoch 15/150\n",
      " - 0s - loss: 0.6468 - acc: 0.6374\n",
      "Epoch 16/150\n",
      " - 0s - loss: 0.6436 - acc: 0.6413\n",
      "Epoch 17/150\n",
      " - 0s - loss: 0.6425 - acc: 0.6433\n",
      "Epoch 18/150\n",
      " - 0s - loss: 0.6288 - acc: 0.6706\n",
      "Epoch 19/150\n",
      " - 0s - loss: 0.6361 - acc: 0.6472\n",
      "Epoch 20/150\n",
      " - 0s - loss: 0.6388 - acc: 0.6433\n",
      "Epoch 21/150\n",
      " - 0s - loss: 0.6297 - acc: 0.6550\n",
      "Epoch 22/150\n",
      " - 0s - loss: 0.6327 - acc: 0.6511\n",
      "Epoch 23/150\n",
      " - 0s - loss: 0.6200 - acc: 0.6667\n",
      "Epoch 24/150\n",
      " - 0s - loss: 0.6259 - acc: 0.6550\n",
      "Epoch 25/150\n",
      " - 0s - loss: 0.6250 - acc: 0.6491\n",
      "Epoch 26/150\n",
      " - 0s - loss: 0.6151 - acc: 0.6511\n",
      "Epoch 27/150\n",
      " - 0s - loss: 0.6134 - acc: 0.6667\n",
      "Epoch 28/150\n",
      " - 0s - loss: 0.6079 - acc: 0.6706\n",
      "Epoch 29/150\n",
      " - 0s - loss: 0.6077 - acc: 0.6608\n",
      "Epoch 30/150\n",
      " - 0s - loss: 0.6054 - acc: 0.6764\n",
      "Epoch 31/150\n",
      " - 0s - loss: 0.6099 - acc: 0.6686\n",
      "Epoch 32/150\n",
      " - 0s - loss: 0.5985 - acc: 0.6764\n",
      "Epoch 33/150\n",
      " - 0s - loss: 0.5868 - acc: 0.6998\n",
      "Epoch 34/150\n",
      " - 0s - loss: 0.5966 - acc: 0.6920\n",
      "Epoch 35/150\n",
      " - 0s - loss: 0.5867 - acc: 0.7037\n",
      "Epoch 36/150\n",
      " - 0s - loss: 0.5814 - acc: 0.7096\n",
      "Epoch 37/150\n",
      " - 0s - loss: 0.5920 - acc: 0.6823\n",
      "Epoch 38/150\n",
      " - 0s - loss: 0.5655 - acc: 0.7232\n",
      "Epoch 39/150\n",
      " - 0s - loss: 0.5749 - acc: 0.6998\n",
      "Epoch 40/150\n",
      " - 0s - loss: 0.5730 - acc: 0.7135\n",
      "Epoch 41/150\n",
      " - 0s - loss: 0.5682 - acc: 0.7076\n",
      "Epoch 42/150\n",
      " - 0s - loss: 0.5652 - acc: 0.7193\n",
      "Epoch 43/150\n",
      " - 0s - loss: 0.5602 - acc: 0.7212\n",
      "Epoch 44/150\n",
      " - 0s - loss: 0.5565 - acc: 0.7173\n",
      "Epoch 45/150\n",
      " - 0s - loss: 0.5453 - acc: 0.7349\n",
      "Epoch 46/150\n",
      " - 0s - loss: 0.5632 - acc: 0.7115\n",
      "Epoch 47/150\n",
      " - 0s - loss: 0.5386 - acc: 0.7388\n",
      "Epoch 48/150\n",
      " - 0s - loss: 0.5282 - acc: 0.7310\n",
      "Epoch 49/150\n",
      " - 0s - loss: 0.5313 - acc: 0.7349\n",
      "Epoch 50/150\n",
      " - 0s - loss: 0.5376 - acc: 0.7271\n",
      "Epoch 51/150\n",
      " - 0s - loss: 0.5182 - acc: 0.7427\n",
      "Epoch 52/150\n",
      " - 0s - loss: 0.5090 - acc: 0.7388\n",
      "Epoch 53/150\n",
      " - 0s - loss: 0.5248 - acc: 0.7349\n",
      "Epoch 54/150\n",
      " - 0s - loss: 0.5218 - acc: 0.7407\n",
      "Epoch 55/150\n",
      " - 0s - loss: 0.5059 - acc: 0.7407\n",
      "Epoch 56/150\n",
      " - 0s - loss: 0.5186 - acc: 0.7271\n",
      "Epoch 57/150\n",
      " - 0s - loss: 0.5080 - acc: 0.7349\n",
      "Epoch 58/150\n",
      " - 0s - loss: 0.4890 - acc: 0.7485\n",
      "Epoch 59/150\n",
      " - 0s - loss: 0.4781 - acc: 0.7680\n",
      "Epoch 60/150\n",
      " - 0s - loss: 0.4950 - acc: 0.7388\n",
      "Epoch 61/150\n",
      " - 0s - loss: 0.5005 - acc: 0.7446\n",
      "Epoch 62/150\n",
      " - 0s - loss: 0.4921 - acc: 0.7388\n",
      "Epoch 63/150\n",
      " - 0s - loss: 0.4634 - acc: 0.7700\n",
      "Epoch 64/150\n",
      " - 0s - loss: 0.4732 - acc: 0.7622\n",
      "Epoch 65/150\n",
      " - 0s - loss: 0.4622 - acc: 0.7797\n",
      "Epoch 66/150\n",
      " - 0s - loss: 0.4688 - acc: 0.7700\n",
      "Epoch 67/150\n",
      " - 0s - loss: 0.4610 - acc: 0.7505\n",
      "Epoch 68/150\n",
      " - 0s - loss: 0.4527 - acc: 0.7719\n",
      "Epoch 69/150\n",
      " - 0s - loss: 0.4384 - acc: 0.7973\n",
      "Epoch 70/150\n",
      " - 0s - loss: 0.4510 - acc: 0.7836\n",
      "Epoch 71/150\n",
      " - 0s - loss: 0.4615 - acc: 0.7622\n",
      "Epoch 72/150\n",
      " - 0s - loss: 0.4478 - acc: 0.7700\n",
      "Epoch 73/150\n",
      " - 0s - loss: 0.4394 - acc: 0.7934\n",
      "Epoch 74/150\n",
      " - 0s - loss: 0.4374 - acc: 0.7700\n",
      "Epoch 75/150\n",
      " - 0s - loss: 0.4186 - acc: 0.8051\n",
      "Epoch 76/150\n",
      " - 0s - loss: 0.4111 - acc: 0.8129\n",
      "Epoch 77/150\n",
      " - 0s - loss: 0.4110 - acc: 0.8109\n",
      "Epoch 78/150\n",
      " - 0s - loss: 0.3962 - acc: 0.8285\n",
      "Epoch 79/150\n",
      " - 0s - loss: 0.4161 - acc: 0.8109\n",
      "Epoch 80/150\n",
      " - 0s - loss: 0.3719 - acc: 0.8616\n",
      "Epoch 81/150\n",
      " - 0s - loss: 0.4290 - acc: 0.7895\n",
      "Epoch 82/150\n",
      " - 0s - loss: 0.3774 - acc: 0.8363\n",
      "Epoch 83/150\n",
      " - 0s - loss: 0.3809 - acc: 0.8207\n",
      "Epoch 84/150\n",
      " - 0s - loss: 0.3846 - acc: 0.8285\n",
      "Epoch 85/150\n",
      " - 0s - loss: 0.3558 - acc: 0.8480\n",
      "Epoch 86/150\n",
      " - 0s - loss: 0.3881 - acc: 0.8187\n",
      "Epoch 87/150\n",
      " - 0s - loss: 0.3743 - acc: 0.8285\n",
      "Epoch 88/150\n",
      " - 0s - loss: 0.3866 - acc: 0.8207\n",
      "Epoch 89/150\n",
      " - 0s - loss: 0.3642 - acc: 0.8285\n",
      "Epoch 90/150\n",
      " - 0s - loss: 0.3892 - acc: 0.8226\n",
      "Epoch 91/150\n",
      " - 0s - loss: 0.3523 - acc: 0.8499\n",
      "Epoch 92/150\n",
      " - 0s - loss: 0.3601 - acc: 0.8246\n",
      "Epoch 93/150\n",
      " - 0s - loss: 0.3639 - acc: 0.8246\n",
      "Epoch 94/150\n",
      " - 0s - loss: 0.3549 - acc: 0.8285\n",
      "Epoch 95/150\n",
      " - 0s - loss: 0.3327 - acc: 0.8441\n",
      "Epoch 96/150\n",
      " - 0s - loss: 0.3479 - acc: 0.8324\n",
      "Epoch 97/150\n",
      " - 0s - loss: 0.3689 - acc: 0.8168\n",
      "Epoch 98/150\n",
      " - 0s - loss: 0.3668 - acc: 0.8246\n",
      "Epoch 99/150\n",
      " - 0s - loss: 0.3561 - acc: 0.8324\n",
      "Epoch 100/150\n",
      " - 0s - loss: 0.3282 - acc: 0.8421\n",
      "Epoch 101/150\n",
      " - 0s - loss: 0.3301 - acc: 0.8441\n",
      "Epoch 102/150\n",
      " - 0s - loss: 0.3401 - acc: 0.8304\n",
      "Epoch 103/150\n",
      " - 0s - loss: 0.3642 - acc: 0.8265\n",
      "Epoch 104/150\n",
      " - 0s - loss: 0.3460 - acc: 0.8265\n",
      "Epoch 105/150\n",
      " - 0s - loss: 0.3389 - acc: 0.8499\n",
      "Epoch 106/150\n",
      " - 0s - loss: 0.3566 - acc: 0.8226\n",
      "Epoch 107/150\n",
      " - 0s - loss: 0.3349 - acc: 0.8402\n",
      "Epoch 108/150\n",
      " - 0s - loss: 0.3331 - acc: 0.8460\n",
      "Epoch 109/150\n",
      " - 0s - loss: 0.3151 - acc: 0.8519\n",
      "Epoch 110/150\n",
      " - 0s - loss: 0.3073 - acc: 0.8363\n",
      "Epoch 111/150\n",
      " - 0s - loss: 0.3349 - acc: 0.8226\n",
      "Epoch 112/150\n",
      " - 0s - loss: 0.3307 - acc: 0.8051\n",
      "Epoch 113/150\n",
      " - 0s - loss: 0.3308 - acc: 0.8402\n",
      "Epoch 114/150\n",
      " - 0s - loss: 0.3340 - acc: 0.8324\n",
      "Epoch 115/150\n",
      " - 0s - loss: 0.3046 - acc: 0.8596\n",
      "Epoch 116/150\n",
      " - 0s - loss: 0.3317 - acc: 0.8441\n",
      "Epoch 117/150\n",
      " - 0s - loss: 0.3034 - acc: 0.8265\n",
      "Epoch 118/150\n",
      " - 0s - loss: 0.3178 - acc: 0.8285\n",
      "Epoch 119/150\n",
      " - 0s - loss: 0.3365 - acc: 0.8148\n",
      "Epoch 120/150\n",
      " - 0s - loss: 0.3104 - acc: 0.8480\n",
      "Epoch 121/150\n",
      " - 0s - loss: 0.3169 - acc: 0.8265\n",
      "Epoch 122/150\n",
      " - 0s - loss: 0.3137 - acc: 0.8402\n",
      "Epoch 123/150\n",
      " - 0s - loss: 0.3021 - acc: 0.8538\n",
      "Epoch 124/150\n",
      " - 0s - loss: 0.3215 - acc: 0.8480\n",
      "Epoch 125/150\n",
      " - 0s - loss: 0.3108 - acc: 0.8421\n",
      "Epoch 126/150\n",
      " - 0s - loss: 0.2969 - acc: 0.8499\n",
      "Epoch 127/150\n",
      " - 0s - loss: 0.2811 - acc: 0.8635\n",
      "Epoch 128/150\n",
      " - 0s - loss: 0.3233 - acc: 0.8285\n",
      "Epoch 129/150\n",
      " - 0s - loss: 0.3221 - acc: 0.8187\n",
      "Epoch 130/150\n",
      " - 0s - loss: 0.3273 - acc: 0.8304\n",
      "Epoch 131/150\n",
      " - 0s - loss: 0.2966 - acc: 0.8460\n",
      "Epoch 132/150\n",
      " - 0s - loss: 0.2906 - acc: 0.8187\n",
      "Epoch 133/150\n",
      " - 0s - loss: 0.2921 - acc: 0.8519\n",
      "Epoch 134/150\n",
      " - 0s - loss: 0.2876 - acc: 0.8577\n",
      "Epoch 135/150\n",
      " - 0s - loss: 0.3403 - acc: 0.7992\n",
      "Epoch 136/150\n",
      " - 0s - loss: 0.3035 - acc: 0.8265\n",
      "Epoch 137/150\n",
      " - 0s - loss: 0.3225 - acc: 0.8090\n",
      "Epoch 138/150\n",
      " - 0s - loss: 0.3122 - acc: 0.8363\n",
      "Epoch 139/150\n",
      " - 0s - loss: 0.2955 - acc: 0.8460\n",
      "Epoch 140/150\n",
      " - 0s - loss: 0.2954 - acc: 0.8207\n",
      "Epoch 141/150\n",
      " - 0s - loss: 0.2997 - acc: 0.8285\n",
      "Epoch 142/150\n",
      " - 0s - loss: 0.2922 - acc: 0.8324\n",
      "Epoch 143/150\n",
      " - 0s - loss: 0.2912 - acc: 0.8343\n",
      "Epoch 144/150\n",
      " - 0s - loss: 0.3169 - acc: 0.8226\n",
      "Epoch 145/150\n",
      " - 0s - loss: 0.3398 - acc: 0.8187\n",
      "Epoch 146/150\n",
      " - 0s - loss: 0.2967 - acc: 0.8324\n",
      "Epoch 147/150\n",
      " - 0s - loss: 0.2988 - acc: 0.8265\n",
      "Epoch 148/150\n",
      " - 0s - loss: 0.3064 - acc: 0.8382\n",
      "Epoch 149/150\n",
      " - 0s - loss: 0.3069 - acc: 0.8343\n",
      "Epoch 150/150\n",
      " - 0s - loss: 0.2946 - acc: 0.8421\n"
     ]
    },
    {
     "data": {
      "text/plain": [
       "<keras.callbacks.History at 0x7f90ad0b60f0>"
      ]
     },
     "execution_count": 68,
     "metadata": {},
     "output_type": "execute_result"
    }
   ],
   "source": [
    "model.fit(x = X_train, y = y_train, epochs=150, batch_size=20, verbose=2)"
   ]
  },
  {
   "cell_type": "markdown",
   "metadata": {},
   "source": [
    "### Confusion Matrix"
   ]
  },
  {
   "cell_type": "markdown",
   "metadata": {},
   "source": [
    "<table>\n",
    "    <tr>\n",
    "        <th></th>\n",
    "        <th>Predicted yes</th>\n",
    "        <th>Predicted no</th>\n",
    "    </tr>\n",
    "    <tr>\n",
    "        <th>Actual yes</th>\n",
    "        <td>true positives</td>\n",
    "        <td>false negatives</td>\n",
    "    </tr>\n",
    "    <tr>\n",
    "        <th>Actual No</th>\n",
    "        <td>false positives</td>\n",
    "        <td>true negatives</td>\n",
    "    </tr>\n",
    "</table>"
   ]
  },
  {
   "cell_type": "markdown",
   "metadata": {},
   "source": [
    "* Training set"
   ]
  },
  {
   "cell_type": "code",
   "execution_count": 79,
   "metadata": {},
   "outputs": [],
   "source": [
    "y_pred = model.predict(X_train)\n",
    "y_pred = (y_pred > 0.6)\n",
    "    \n",
    "cm = confusion_matrix(y_train, y_pred)"
   ]
  },
  {
   "cell_type": "code",
   "execution_count": 80,
   "metadata": {},
   "outputs": [
    {
     "data": {
      "text/plain": [
       "array([[282,  14],\n",
       "       [  6, 211]])"
      ]
     },
     "execution_count": 80,
     "metadata": {},
     "output_type": "execute_result"
    }
   ],
   "source": [
    "cm"
   ]
  },
  {
   "cell_type": "markdown",
   "metadata": {},
   "source": [
    "* 513 observations\n",
    "* 493 correct predictions\n",
    "* 20 wrong predictions"
   ]
  },
  {
   "cell_type": "code",
   "execution_count": 89,
   "metadata": {},
   "outputs": [
    {
     "name": "stdout",
     "output_type": "stream",
     "text": [
      "Precision: 0.9610136452241715\n"
     ]
    }
   ],
   "source": [
    "print('Precision: {}'.format(493/513))"
   ]
  },
  {
   "cell_type": "markdown",
   "metadata": {},
   "source": [
    "* Test set"
   ]
  },
  {
   "cell_type": "code",
   "execution_count": 77,
   "metadata": {},
   "outputs": [],
   "source": [
    "y_pred = model.predict(X_test)\n",
    "y_pred = (y_pred > 0.6)\n",
    "    \n",
    "cm = confusion_matrix(y_test, y_pred)"
   ]
  },
  {
   "cell_type": "code",
   "execution_count": 78,
   "metadata": {},
   "outputs": [
    {
     "data": {
      "text/plain": [
       "array([[93,  3],\n",
       "       [24, 52]])"
      ]
     },
     "execution_count": 78,
     "metadata": {},
     "output_type": "execute_result"
    }
   ],
   "source": [
    "cm"
   ]
  },
  {
   "cell_type": "markdown",
   "metadata": {},
   "source": [
    "* 172 new observations\n",
    "* 145 correct predictions\n",
    "* 27 wrong predictions"
   ]
  },
  {
   "cell_type": "code",
   "execution_count": 88,
   "metadata": {},
   "outputs": [
    {
     "name": "stdout",
     "output_type": "stream",
     "text": [
      "Precision: 0.8430232558139535\n"
     ]
    }
   ],
   "source": [
    "print('Precision: {}'.format(145/172))"
   ]
  }
 ],
 "metadata": {
  "kernelspec": {
   "display_name": "Python 3",
   "language": "python",
   "name": "python3"
  },
  "language_info": {
   "codemirror_mode": {
    "name": "ipython",
    "version": 3
   },
   "file_extension": ".py",
   "mimetype": "text/x-python",
   "name": "python",
   "nbconvert_exporter": "python",
   "pygments_lexer": "ipython3",
   "version": "3.6.4"
  }
 },
 "nbformat": 4,
 "nbformat_minor": 2
}
